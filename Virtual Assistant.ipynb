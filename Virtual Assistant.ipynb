{
 "cells": [
  {
   "cell_type": "code",
   "execution_count": 1,
   "id": "00db4cda",
   "metadata": {},
   "outputs": [],
   "source": [
    "import pyttsx3\n",
    "import datetime\n",
    "import os\n",
    "import speech_recognition as sr\n",
    "import wikipedia\n",
    "import smtplib"
   ]
  },
  {
   "cell_type": "code",
   "execution_count": 2,
   "id": "ca43502e",
   "metadata": {},
   "outputs": [],
   "source": [
    "engine=pyttsx3.init('sapi5')\n",
    "voices=engine.getProperty('voices')\n",
    "engine.setProperty('voice',voices[1].id)#voice[0] for male and voice[1] for female"
   ]
  },
  {
   "cell_type": "code",
   "execution_count": 13,
   "id": "430f0bb8",
   "metadata": {},
   "outputs": [],
   "source": [
    "def speak(audio):\n",
    "    engine.say(audio)\n",
    "    engine.runAndWait()"
   ]
  },
  {
   "cell_type": "code",
   "execution_count": 14,
   "id": "34a55607",
   "metadata": {},
   "outputs": [],
   "source": [
    "def wishMe():\n",
    "    hour=int(datetime.datetime.now().hour)\n",
    "    if hour>=0 and hour<=12:\n",
    "        speak(\"Good Morning!\")\n",
    "    elif hour>=12 and hour<18:\n",
    "        speak(\"Good Afternoon!\")\n",
    "    else:\n",
    "        speak(\"Good Evening!\")\n",
    "    speak(\"I am Virtual Assistant. Please tell me, May I help you\")"
   ]
  },
  {
   "cell_type": "code",
   "execution_count": 15,
   "id": "92642ffd",
   "metadata": {},
   "outputs": [],
   "source": [
    "def takeCommand():\n",
    "    r=sr.Recognizer()\n",
    "    with sr.Microphone() as source:\n",
    "        print(\"Listening......\")\n",
    "        r.pause_threshold=1\n",
    "        audio=r.listen(source)\n",
    "    try:\n",
    "        print(\"Recognizing....\")\n",
    "        querry=r.recognize_google(audio,language='en-in')\n",
    "        print(f\"User Said:{querry}\\n\")\n",
    "    except Exception as e:\n",
    "        print(\"Say that again please.....\")\n",
    "        return \"None\"\n",
    "    return querry"
   ]
  },
  {
   "cell_type": "code",
   "execution_count": 16,
   "id": "8908f7ee",
   "metadata": {},
   "outputs": [],
   "source": [
    "def sendEmail(to,content):\n",
    "    server=smtplib.SMTP('smtp.gmail.com',587)\n",
    "    server.ehlo()\n",
    "    server.starttls()\n",
    "    server.login(\"aswincu15@gmail.com\",\"Hello VA\")\n",
    "    server.sendmail(\"aswincu15@gmail.com\",to,content)\n",
    "    server.close()"
   ]
  },
  {
   "cell_type": "code",
   "execution_count": 19,
   "id": "8e2a49d0",
   "metadata": {},
   "outputs": [
    {
     "name": "stdout",
     "output_type": "stream",
     "text": [
      "Listening......\n",
      "Recognizing....\n",
      "User Said:Wikipedia\n",
      "\n",
      "The Wikimedia Foundation, Inc., or Wikimedia for short and abbreviated as WMF, is an American 501(c)(3) nonprofit organization headquartered in San Francisco, California and registered as a charitable foundation under local laws. Best known as the hosting platform for Wikipedia, a crowdsourced online encyclopedia, it also hosts other related projects and MediaWiki, a wiki software.The Wikimedia Foundation was established in 2003 in St.\n"
     ]
    }
   ],
   "source": [
    "if __name__==\"__main__\":\n",
    "    wishMe()\n",
    "    querry=takeCommand().lower()\n",
    "    if 'wikipedia' in querry:\n",
    "        speak('Searching Wikipedia....')\n",
    "        querry=querry.replace(\"Wikipedia\",\"\")\n",
    "        results=wikipedia.summary(querry,sentences=2)\n",
    "        speak(\"According to Wikipedia\")\n",
    "        print(results)\n",
    "        speak(results)\n",
    "    elif 'open youtube' in querry:\n",
    "        webbrowser.open(\"youtube.com\")\n",
    "    elif 'open google' in querry:\n",
    "        webbrowser.open(\"google.com\")\n",
    "    elif 'open stack over flow' in querry:\n",
    "        webbrowser.open(\"stackoverflow.com\")\n",
    "    elif 'play music' in querry:\n",
    "        music_dir='E:\\music'\n",
    "        songs=os.listdir(music_dir)\n",
    "        print(songs)\n",
    "        os.startfile(os.path.join(music_dir,songs[0]))\n",
    "    elif 'time' in querry:\n",
    "        strTime=datetime.datetime.now().strftime(\"%H:%M:%S\")\n",
    "        speak(f\"Sir, the time is {strTime}\")"
   ]
  },
  {
   "cell_type": "code",
   "execution_count": null,
   "id": "909735b2",
   "metadata": {},
   "outputs": [],
   "source": []
  }
 ],
 "metadata": {
  "kernelspec": {
   "display_name": "Python 3",
   "language": "python",
   "name": "python3"
  },
  "language_info": {
   "codemirror_mode": {
    "name": "ipython",
    "version": 3
   },
   "file_extension": ".py",
   "mimetype": "text/x-python",
   "name": "python",
   "nbconvert_exporter": "python",
   "pygments_lexer": "ipython3",
   "version": "3.8.8"
  }
 },
 "nbformat": 4,
 "nbformat_minor": 5
}
